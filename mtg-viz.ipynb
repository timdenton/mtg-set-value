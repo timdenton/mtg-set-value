{
 "cells": [
  {
   "cell_type": "code",
   "execution_count": 1,
   "id": "comparative-feeling",
   "metadata": {},
   "outputs": [],
   "source": [
    "import pandas as pd\n",
    "import matplotlib.pyplot as plt\n",
    "import seaborn as sns\n"
   ]
  },
  {
   "cell_type": "code",
   "execution_count": 2,
   "id": "meaningful-grant",
   "metadata": {},
   "outputs": [
    {
     "data": {
      "text/html": [
       "<div>\n",
       "<style scoped>\n",
       "    .dataframe tbody tr th:only-of-type {\n",
       "        vertical-align: middle;\n",
       "    }\n",
       "\n",
       "    .dataframe tbody tr th {\n",
       "        vertical-align: top;\n",
       "    }\n",
       "\n",
       "    .dataframe thead th {\n",
       "        text-align: right;\n",
       "    }\n",
       "</style>\n",
       "<table border=\"1\" class=\"dataframe\">\n",
       "  <thead>\n",
       "    <tr style=\"text-align: right;\">\n",
       "      <th></th>\n",
       "      <th>Price $</th>\n",
       "      <th>Card Name</th>\n",
       "      <th>Rarity</th>\n",
       "      <th>Set</th>\n",
       "    </tr>\n",
       "  </thead>\n",
       "  <tbody>\n",
       "    <tr>\n",
       "      <th>2175</th>\n",
       "      <td>0.42</td>\n",
       "      <td>Worthy Knight</td>\n",
       "      <td>R</td>\n",
       "      <td>throne-of-eldraine</td>\n",
       "    </tr>\n",
       "    <tr>\n",
       "      <th>2176</th>\n",
       "      <td>1.33</td>\n",
       "      <td>Worthy Knight (Extended Art)</td>\n",
       "      <td>R</td>\n",
       "      <td>throne-of-eldraine</td>\n",
       "    </tr>\n",
       "    <tr>\n",
       "      <th>2177</th>\n",
       "      <td>0.52</td>\n",
       "      <td>Yorvo, Lord of Garenbrig</td>\n",
       "      <td>R</td>\n",
       "      <td>throne-of-eldraine</td>\n",
       "    </tr>\n",
       "    <tr>\n",
       "      <th>2178</th>\n",
       "      <td>2.41</td>\n",
       "      <td>Yorvo, Lord of Garenbrig (Extended Art)</td>\n",
       "      <td>R</td>\n",
       "      <td>throne-of-eldraine</td>\n",
       "    </tr>\n",
       "    <tr>\n",
       "      <th>2179</th>\n",
       "      <td>0.03</td>\n",
       "      <td>Youthful Knight</td>\n",
       "      <td>C</td>\n",
       "      <td>throne-of-eldraine</td>\n",
       "    </tr>\n",
       "  </tbody>\n",
       "</table>\n",
       "</div>"
      ],
      "text/plain": [
       "      Price $                                Card Name Rarity  \\\n",
       "2175     0.42                            Worthy Knight      R   \n",
       "2176     1.33             Worthy Knight (Extended Art)      R   \n",
       "2177     0.52                 Yorvo, Lord of Garenbrig      R   \n",
       "2178     2.41  Yorvo, Lord of Garenbrig (Extended Art)      R   \n",
       "2179     0.03                          Youthful Knight      C   \n",
       "\n",
       "                     Set  \n",
       "2175  throne-of-eldraine  \n",
       "2176  throne-of-eldraine  \n",
       "2177  throne-of-eldraine  \n",
       "2178  throne-of-eldraine  \n",
       "2179  throne-of-eldraine  "
      ]
     },
     "execution_count": 2,
     "metadata": {},
     "output_type": "execute_result"
    }
   ],
   "source": [
    "df = pd.read_csv('data/price_data.csv')\n",
    "df.tail()"
   ]
  },
  {
   "cell_type": "code",
   "execution_count": 3,
   "id": "juvenile-style",
   "metadata": {},
   "outputs": [
    {
     "name": "stdout",
     "output_type": "stream",
     "text": [
      "Set\n",
      "zendikar-rising             416.64\n",
      "theros-beyond-death         572.10\n",
      "ikoria-lair-of-behemoths    594.38\n",
      "throne-of-eldraine          674.72\n",
      "core-set-2021               674.79\n",
      "Name: Price $, dtype: float64\n"
     ]
    },
    {
     "data": {
      "text/plain": [
       "<AxesSubplot:ylabel='Set'>"
      ]
     },
     "execution_count": 3,
     "metadata": {},
     "output_type": "execute_result"
    },
    {
     "data": {
      "image/png": "[encoded data removed]",
      "text/plain": [
       "<Figure size 432x288 with 1 Axes>"
      ]
     },
     "metadata": {
      "needs_background": "light"
     },
     "output_type": "display_data"
    }
   ],
   "source": [
    "values_sum = df.groupby(\"Set\")[\"Price $\"].sum().sort_values()\n",
    "print(values_sum)\n",
    "values_sum.plot(kind=\"barh\")"
   ]
  },
  {
   "cell_type": "code",
   "execution_count": 4,
   "id": "fifteen-house",
   "metadata": {},
   "outputs": [
    {
     "name": "stdout",
     "output_type": "stream",
     "text": [
      "Set\n",
      "ikoria-lair-of-behemoths    0.15\n",
      "theros-beyond-death         0.16\n",
      "zendikar-rising             0.18\n",
      "throne-of-eldraine          0.21\n",
      "core-set-2021               0.25\n",
      "Name: Price $, dtype: float64\n"
     ]
    },
    {
     "data": {
      "text/plain": [
       "<AxesSubplot:ylabel='Set'>"
      ]
     },
     "execution_count": 4,
     "metadata": {},
     "output_type": "execute_result"
    },
    {
     "data": {
      "image/png": "[encoded data removed]",
      "text/plain": [
       "<Figure size 432x288 with 1 Axes>"
      ]
     },
     "metadata": {
      "needs_background": "light"
     },
     "output_type": "display_data"
    }
   ],
   "source": [
    "values_median = df.groupby(\"Set\")[\"Price $\"].median().sort_values()\n",
    "print(values_median)\n",
    "values_median.plot(kind=\"barh\")"
   ]
  },
  {
   "cell_type": "code",
   "execution_count": 27,
   "id": "mexican-nursing",
   "metadata": {},
   "outputs": [
    {
     "name": "stdout",
     "output_type": "stream",
     "text": [
      "Set\n",
      "zendikar-rising             0.934170\n",
      "ikoria-lair-of-behemoths    1.421962\n",
      "throne-of-eldraine          1.444797\n",
      "core-set-2021               1.463753\n",
      "theros-beyond-death         1.474485\n",
      "Name: Price $, dtype: float64\n"
     ]
    },
    {
     "data": {
      "text/plain": [
       "<AxesSubplot:ylabel='Set'>"
      ]
     },
     "execution_count": 27,
     "metadata": {},
     "output_type": "execute_result"
    },
    {
     "data": {
      "image/png": "[encoded data removed]",
      "text/plain": [
       "<Figure size 432x288 with 1 Axes>"
      ]
     },
     "metadata": {
      "needs_background": "light"
     },
     "output_type": "display_data"
    }
   ],
   "source": [
    "values_mean = df.groupby(\"Set\")[\"Price $\"].mean().sort_values()\n",
    "print(values_mean)\n",
    "values_mean.plot(kind=\"barh\")"
   ]
  },
  {
   "cell_type": "code",
   "execution_count": null,
   "id": "incident-slovenia",
   "metadata": {},
   "outputs": [],
   "source": []
  },
  {
   "cell_type": "code",
   "execution_count": null,
   "id": "acoustic-screw",
   "metadata": {},
   "outputs": [],
   "source": []
  }
 ],
 "metadata": {
  "kernelspec": {
   "display_name": "Python 3",
   "language": "python",
   "name": "python3"
  },
  "language_info": {
   "codemirror_mode": {
    "name": "ipython",
    "version": 3
   },
   "file_extension": ".py",
   "mimetype": "text/x-python",
   "name": "python",
   "nbconvert_exporter": "python",
   "pygments_lexer": "ipython3",
   "version": "3.8.5"
  }
 },
 "nbformat": 4,
 "nbformat_minor": 5
}
